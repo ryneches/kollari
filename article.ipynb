{
 "metadata": {
  "name": "",
  "signature": "sha256:aacb37651b9187f273cffe63a56f90be62a1950e70dbb01a3a5a1e7db7a10df1"
 },
 "nbformat": 3,
 "nbformat_minor": 0,
 "worksheets": [
  {
   "cells": [
    {
     "cell_type": "code",
     "collapsed": false,
     "input": [
      "# import magics here\n",
      "%pylab inline"
     ],
     "language": "python",
     "metadata": {},
     "outputs": [
      {
       "output_type": "stream",
       "stream": "stdout",
       "text": [
        "Populating the interactive namespace from numpy and matplotlib\n"
       ]
      }
     ],
     "prompt_number": 2
    },
    {
     "cell_type": "markdown",
     "metadata": {},
     "source": [
      "# Full Title\n",
      "## Full Subtitle"
     ]
    },
    {
     "cell_type": "markdown",
     "metadata": {},
     "source": [
      "# Authors"
     ]
    },
    {
     "cell_type": "code",
     "collapsed": false,
     "input": [
      "authors =      [ { 'name' : 'Author One',   'affiliation' : 0 },\n",
      "                 { 'name' : 'Author Two',   'affiliation' : 1 },\n",
      "                 { 'name' : 'Author Three', 'affiliation' : 0 } ]\n",
      "\n",
      "affiliations = [ 'Some University',\n",
      "                 'Some Other University' ]"
     ],
     "language": "python",
     "metadata": {},
     "outputs": []
    },
    {
     "cell_type": "markdown",
     "metadata": {},
     "source": [
      "# Abstract\n",
      "\n",
      "This is the abstract of the article."
     ]
    },
    {
     "cell_type": "markdown",
     "metadata": {},
     "source": [
      "# Introduction\n",
      "\n",
      "Cells after this section will be assembled into the Introduction section"
     ]
    },
    {
     "cell_type": "code",
     "collapsed": false,
     "input": [
      "# A figure \n",
      "\n",
      "x = linspace(-10,10,100)\n",
      "plot(x,sin(x))"
     ],
     "language": "python",
     "metadata": {},
     "outputs": [
      {
       "metadata": {},
       "output_type": "pyout",
       "prompt_number": 11,
       "text": [
        "[<matplotlib.lines.Line2D at 0x7f6769a9fc50>]"
       ]
      },
      {
       "metadata": {},
       "output_type": "display_data",
       "png": "[encoded data removed]",
       "text": [
        "<matplotlib.figure.Figure at 0x7f6769b5b590>"
       ]
      }
     ],
     "prompt_number": 11
    },
    {
     "cell_type": "markdown",
     "metadata": {},
     "source": [
      "# Methods\n",
      "\n",
      "Cells after this will be assembled into the Methods section"
     ]
    },
    {
     "cell_type": "markdown",
     "metadata": {},
     "source": [
      "# Results\n",
      "\n",
      "Cells after this will be assembled into the Results section"
     ]
    },
    {
     "cell_type": "markdown",
     "metadata": {},
     "source": [
      "# Conclusion\n",
      "\n",
      "Cells after this will be assembled into the Conclusion section"
     ]
    },
    {
     "cell_type": "markdown",
     "metadata": {},
     "source": [
      "# References\n",
      "\n",
      "This is the References section"
     ]
    }
   ],
   "metadata": {}
  }
 ]
}